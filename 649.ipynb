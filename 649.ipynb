{
 "cells": [
  {
   "cell_type": "markdown",
   "metadata": {},
   "source": [
    "# Mobile app for lottery addition\n",
    "\n",
    "A medical institute that aims to prevent and treat gambling addictions wants to build a dedicated mobile app to help lottery addicts better estimate their chances of winning. The institute has a team of engineers that will build the app, but they need us to create the logical core of the app and calculate probabilities.\n",
    "\n",
    "For the first version of the app, they want us to focus on the [6/49 lottery](https://en.wikipedia.org/wiki/Lotto_6/49) and build functions that enable users to answer questions like:\n",
    "\n",
    "- What is the probability of winning the big prize with a single ticket?\n",
    "- What is the probability of winning the big prize if we play 40 different tickets (or any other number)?\n",
    "- What is the probability of having at least five (or four, or three, or two) winning numbers on a single ticket?\n",
    "\n",
    "The institute also wants us to consider historical data coming from the national 6/49 lottery game in Canada. The [data set](https://www.kaggle.com/datascienceai/lottery-dataset) has data for 3,665 drawings, dating from 1982 to 2018.\n",
    "\n",
    "The scenario we're following throughout this project is fictional — the main purpose is to practice applying probability and combinatorics (permutations and combinations) concepts in a setting that simulates a real-world scenario."
   ]
  },
  {
   "cell_type": "markdown",
   "metadata": {},
   "source": [
    "# Core functions\n",
    "\n",
    "our goal is to write code that can enable users to answer probability questions about playing the lottery. Throughout the project, we'll need to calculate repeatedly probabilities and combinations. As a consequence, we'll start by writing two functions that we'll use often:\n",
    "\n",
    "- A function that calculates factorials; and\n",
    "- A function that calculates combinations."
   ]
  },
  {
   "cell_type": "code",
   "execution_count": 1,
   "metadata": {},
   "outputs": [
    {
     "name": "stdout",
     "output_type": "stream",
     "text": [
      "6\n"
     ]
    }
   ],
   "source": [
    "def factorial(n, m=0):\n",
    "    fac = 1\n",
    "    for k in range(n-m, 0, -1):\n",
    "        fac *= k\n",
    "    return fac\n",
    "\n",
    "print(factorial(5, 2))"
   ]
  },
  {
   "cell_type": "code",
   "execution_count": 2,
   "metadata": {},
   "outputs": [
    {
     "data": {
      "text/plain": [
       "10.0"
      ]
     },
     "execution_count": 2,
     "metadata": {},
     "output_type": "execute_result"
    }
   ],
   "source": [
    "def combination(n,m):\n",
    "    cob = factorial(n)/(factorial(m)*factorial(n, m))\n",
    "    return cob\n",
    "\n",
    "combination(5, 2)"
   ]
  },
  {
   "cell_type": "code",
   "execution_count": 3,
   "metadata": {},
   "outputs": [],
   "source": [
    "# def factorial(n):\n",
    "#     final_product = 1\n",
    "#     for i in range(n, 0, -1):\n",
    "#         final_product *= i\n",
    "#     return final_product\n",
    "\n",
    "# def combinations(n, k):\n",
    "#     numerator = factorial(n)\n",
    "#     denominator = factorial(k) * factorial(n-k)\n",
    "#     return numerator/denominator"
   ]
  },
  {
   "cell_type": "markdown",
   "metadata": {},
   "source": [
    "# One ticket probability\n",
    "\n",
    "In the 6/49 lottery, six numbers are drawn from a set of 49 numbers that range from 1 to 49. A player wins the big prize if the six numbers on their tickets match all the six numbers drawn. If a player has a ticket with the numbers {13, 22, 24, 27, 42, 44}, he only wins the big prize if the numbers drawn are {13, 22, 24, 27, 42, 44}. If only one number differs, he doesn't win.\n",
    "\n",
    "For the first version of the app, we want players to be able to calculate the probability of winning the big prize with the various numbers they play on a single ticket (for each ticket a player chooses six numbers out of 49). So, we'll start by building a function that calculates the probability of winning the big prize for any given ticket.\n",
    "\n",
    "We discussed with the engineering team of the medical institute, and they told us we need to be aware of the following details when we write the function:\n",
    "\n",
    "- Inside the app, the user inputs six different numbers from 1 to 49.\n",
    "- Under the hood, the six numbers will come as a Python list, which will serve as the single input to our function.\n",
    "- The engineering team wants the function to print the probability value in a friendly way — in a way that people without any probability training are able to understand."
   ]
  },
  {
   "cell_type": "code",
   "execution_count": 4,
   "metadata": {},
   "outputs": [
    {
     "name": "stdout",
     "output_type": "stream",
     "text": [
      "Your chances to win the big prize with the numbers [48 27 18  9 36 29] are 0.0000072%. \n",
      "    \n",
      "In other words, you have a 1 in 13,983,816 chances to win.\n",
      "None\n",
      "\n",
      "\n",
      "Your chances to win the big prize with the numbers [ 2 25 29 23 30  6] are 0.0000072%. \n",
      "    \n",
      "In other words, you have a 1 in 13,983,816 chances to win.\n",
      "None\n"
     ]
    }
   ],
   "source": [
    "def one_ticket_probability(lottery):\n",
    "    \n",
    "    n = len(lottery)\n",
    "    num_suc_outcome = 1\n",
    "    tot_possible_outcome = combination(49, n)\n",
    "    prob_win = num_suc_outcome/tot_possible_outcome\n",
    "    percentage_form = 100*prob_win\n",
    "    \n",
    "    print('''Your chances to win the big prize with the numbers {} are {:.7f}%. \n",
    "    \\nIn other words, you have a 1 in {:,} chances to win.'''.format(lottery, percentage_form, int(tot_possible_outcome)))\n",
    "    \n",
    "    \n",
    "from numpy import random\n",
    "lottery = random.randint(1, 50, size=6)\n",
    "print(one_ticket_probability(lottery))\n",
    "print('\\n')\n",
    "lottery = random.randint(1, 50, size=6)\n",
    "print(one_ticket_probability(lottery))"
   ]
  },
  {
   "cell_type": "markdown",
   "metadata": {},
   "source": [
    "# Historical data check for Canada lottery\n",
    "\n",
    "The institute also wants us to consider the data coming from the national 6/49 lottery game in Canada. The data set contains historical data for 3,665 drawings, dating from 1982 to 2018."
   ]
  },
  {
   "cell_type": "code",
   "execution_count": 5,
   "metadata": {},
   "outputs": [
    {
     "name": "stdout",
     "output_type": "stream",
     "text": [
      "<class 'pandas.core.frame.DataFrame'>\n",
      "RangeIndex: 3665 entries, 0 to 3664\n",
      "Data columns (total 11 columns):\n",
      "PRODUCT            3665 non-null int64\n",
      "DRAW NUMBER        3665 non-null int64\n",
      "SEQUENCE NUMBER    3665 non-null int64\n",
      "DRAW DATE          3665 non-null object\n",
      "NUMBER DRAWN 1     3665 non-null int64\n",
      "NUMBER DRAWN 2     3665 non-null int64\n",
      "NUMBER DRAWN 3     3665 non-null int64\n",
      "NUMBER DRAWN 4     3665 non-null int64\n",
      "NUMBER DRAWN 5     3665 non-null int64\n",
      "NUMBER DRAWN 6     3665 non-null int64\n",
      "BONUS NUMBER       3665 non-null int64\n",
      "dtypes: int64(10), object(1)\n",
      "memory usage: 315.0+ KB\n"
     ]
    }
   ],
   "source": [
    "import pandas as pd\n",
    "\n",
    "canada_lottery = pd.read_csv('649.csv')\n",
    "canada_lottery.info()"
   ]
  },
  {
   "cell_type": "code",
   "execution_count": 6,
   "metadata": {},
   "outputs": [
    {
     "name": "stdout",
     "output_type": "stream",
     "text": [
      "<class 'pandas.core.frame.DataFrame'>\n",
      "RangeIndex: 3665 entries, 0 to 3664\n",
      "Data columns (total 11 columns):\n",
      "PRODUCT            3665 non-null int64\n",
      "DRAW NUMBER        3665 non-null int64\n",
      "SEQUENCE NUMBER    3665 non-null int64\n",
      "DRAW DATE          3665 non-null datetime64[ns]\n",
      "NUMBER DRAWN 1     3665 non-null int64\n",
      "NUMBER DRAWN 2     3665 non-null int64\n",
      "NUMBER DRAWN 3     3665 non-null int64\n",
      "NUMBER DRAWN 4     3665 non-null int64\n",
      "NUMBER DRAWN 5     3665 non-null int64\n",
      "NUMBER DRAWN 6     3665 non-null int64\n",
      "BONUS NUMBER       3665 non-null int64\n",
      "dtypes: datetime64[ns](1), int64(10)\n",
      "memory usage: 315.0 KB\n"
     ]
    }
   ],
   "source": [
    "canada_lottery = pd.read_csv('649.csv', parse_dates=['DRAW DATE'])\n",
    "canada_lottery.info()"
   ]
  },
  {
   "cell_type": "code",
   "execution_count": 7,
   "metadata": {},
   "outputs": [
    {
     "data": {
      "text/html": [
       "<div>\n",
       "<style scoped>\n",
       "    .dataframe tbody tr th:only-of-type {\n",
       "        vertical-align: middle;\n",
       "    }\n",
       "\n",
       "    .dataframe tbody tr th {\n",
       "        vertical-align: top;\n",
       "    }\n",
       "\n",
       "    .dataframe thead th {\n",
       "        text-align: right;\n",
       "    }\n",
       "</style>\n",
       "<table border=\"1\" class=\"dataframe\">\n",
       "  <thead>\n",
       "    <tr style=\"text-align: right;\">\n",
       "      <th></th>\n",
       "      <th>PRODUCT</th>\n",
       "      <th>DRAW NUMBER</th>\n",
       "      <th>SEQUENCE NUMBER</th>\n",
       "      <th>DRAW DATE</th>\n",
       "      <th>NUMBER DRAWN 1</th>\n",
       "      <th>NUMBER DRAWN 2</th>\n",
       "      <th>NUMBER DRAWN 3</th>\n",
       "      <th>NUMBER DRAWN 4</th>\n",
       "      <th>NUMBER DRAWN 5</th>\n",
       "      <th>NUMBER DRAWN 6</th>\n",
       "      <th>BONUS NUMBER</th>\n",
       "    </tr>\n",
       "  </thead>\n",
       "  <tbody>\n",
       "    <tr>\n",
       "      <th>2838</th>\n",
       "      <td>649</td>\n",
       "      <td>2839</td>\n",
       "      <td>0</td>\n",
       "      <td>2011-04-06</td>\n",
       "      <td>1</td>\n",
       "      <td>3</td>\n",
       "      <td>23</td>\n",
       "      <td>26</td>\n",
       "      <td>35</td>\n",
       "      <td>38</td>\n",
       "      <td>11</td>\n",
       "    </tr>\n",
       "    <tr>\n",
       "      <th>235</th>\n",
       "      <td>649</td>\n",
       "      <td>236</td>\n",
       "      <td>0</td>\n",
       "      <td>1986-04-26</td>\n",
       "      <td>8</td>\n",
       "      <td>10</td>\n",
       "      <td>24</td>\n",
       "      <td>27</td>\n",
       "      <td>35</td>\n",
       "      <td>43</td>\n",
       "      <td>22</td>\n",
       "    </tr>\n",
       "    <tr>\n",
       "      <th>3020</th>\n",
       "      <td>649</td>\n",
       "      <td>2967</td>\n",
       "      <td>3</td>\n",
       "      <td>2012-06-27</td>\n",
       "      <td>27</td>\n",
       "      <td>29</td>\n",
       "      <td>31</td>\n",
       "      <td>35</td>\n",
       "      <td>36</td>\n",
       "      <td>37</td>\n",
       "      <td>0</td>\n",
       "    </tr>\n",
       "  </tbody>\n",
       "</table>\n",
       "</div>"
      ],
      "text/plain": [
       "      PRODUCT  DRAW NUMBER  SEQUENCE NUMBER  DRAW DATE  NUMBER DRAWN 1  \\\n",
       "2838      649         2839                0 2011-04-06               1   \n",
       "235       649          236                0 1986-04-26               8   \n",
       "3020      649         2967                3 2012-06-27              27   \n",
       "\n",
       "      NUMBER DRAWN 2  NUMBER DRAWN 3  NUMBER DRAWN 4  NUMBER DRAWN 5  \\\n",
       "2838               3              23              26              35   \n",
       "235               10              24              27              35   \n",
       "3020              29              31              35              36   \n",
       "\n",
       "      NUMBER DRAWN 6  BONUS NUMBER  \n",
       "2838              38            11  \n",
       "235               43            22  \n",
       "3020              37             0  "
      ]
     },
     "execution_count": 7,
     "metadata": {},
     "output_type": "execute_result"
    }
   ],
   "source": [
    "canada_lottery.sample(3)"
   ]
  },
  {
   "cell_type": "markdown",
   "metadata": {},
   "source": [
    "# Function for historical data check\n",
    "\n",
    "The engineering team tells us that we need to write a function that can help users determine whether they would have ever won by now using a certain combination of six numbers. These are the details we'll need to be aware of:\n",
    "\n",
    "- Inside the app, the user inputs six different numbers from 1 to 49.\n",
    "- Under the hood, the six numbers will come as a Python list and serve as an input to our function.\n",
    "- The engineering team wants us to write a function that prints:\n",
    "  - the number of times the combination selected occurred; and\n",
    "  - the probability of winning the big prize in the next drawing with that combination.\n",
    "  \n",
    "We're going to begin by extracting all the winning numbers from the lottery data set."
   ]
  },
  {
   "cell_type": "code",
   "execution_count": 11,
   "metadata": {},
   "outputs": [
    {
     "data": {
      "text/plain": [
       "0    {3, 41, 11, 12, 43, 14}\n",
       "1    {33, 36, 37, 39, 8, 41}\n",
       "2     {1, 6, 39, 23, 24, 27}\n",
       "3     {3, 9, 10, 43, 13, 20}\n",
       "4    {34, 5, 14, 47, 21, 31}\n",
       "Name: PRODUCT, dtype: object"
      ]
     },
     "execution_count": 11,
     "metadata": {},
     "output_type": "execute_result"
    }
   ],
   "source": [
    "winning_numbers = canada_lottery.apply(lambda row: set(row[4:10].values), axis=1).iloc[:,0]\n",
    "winning_numbers.head()"
   ]
  },
  {
   "cell_type": "markdown",
   "metadata": {},
   "source": [
    "Below, we write the check_historical_occurrence() function that takes in the user numbers and the historical numbers and prints information with respect to the number of occurrences and the probability of winning in the next drawing."
   ]
  },
  {
   "cell_type": "code",
   "execution_count": 14,
   "metadata": {},
   "outputs": [
    {
     "name": "stdout",
     "output_type": "stream",
     "text": [
      "The combination [ 3  8 20 44 15 26] has never occured.\n",
      "This doesn't mean it's more likely to occur now. Your chances to win the big prize in the next drawing using the combination [ 3  8 20 44 15 26] are 0.0000072%.\n",
      "In other words, you have a 1 in 13,983,816 chances to win.\n",
      "\n",
      "\n",
      "The combination [ 7 13 25 41 28 15] has never occured.\n",
      "This doesn't mean it's more likely to occur now. Your chances to win the big prize in the next drawing using the combination [ 7 13 25 41 28 15] are 0.0000072%.\n",
      "In other words, you have a 1 in 13,983,816 chances to win.\n"
     ]
    }
   ],
   "source": [
    "def check_historical_occurrence(user_numbers, historical_numbers):\n",
    "    n_occurence = (historical_numbers == set(user_numbers)).sum()\n",
    "    \n",
    "    if n_occurence == 0:\n",
    "        print('''The combination {} has never occured.\n",
    "This doesn't mean it's more likely to occur now. Your chances to win the big prize in the next drawing using the combination {} are 0.0000072%.\n",
    "In other words, you have a 1 in 13,983,816 chances to win.'''.format(user_numbers, user_numbers))\n",
    "    else:\n",
    "        print('''The number of times combination {} has occured in the past is {}.\n",
    "Your chances to win the big prize in the next drawing using the combination {} are 0.0000072%.\n",
    "In other words, you have a 1 in 13,983,816 chances to win.'''.format(user_numbers, n_occurrence,\n",
    "                                                                            user_numbers))\n",
    "\n",
    "        \n",
    "user_numbers = random.randint(1, 50, size=6)\n",
    "check_historical_occurrence(user_numbers, winning_numbers)\n",
    "print('\\n')\n",
    "user_numbers = random.randint(1, 50, size=6)\n",
    "check_historical_occurrence(user_numbers, winning_numbers) "
   ]
  },
  {
   "cell_type": "markdown",
   "metadata": {},
   "source": [
    "# Multi-ticket probability\n",
    "\n",
    "\n",
    "Lottery addicts usually play more than one ticket on a single drawing, thinking that this might increase their chances of winning significantly. Our purpose is to help them better estimate their chances of winning — in this section, we're going to write a function that will allow the users to calculate the chances of winning for any number of different tickets.\n",
    "\n",
    "We've talked with the engineering team and they gave us the following information:\n",
    "\n",
    "- The user will input the number of different tickets they want to play (without inputting the specific combinations they intend to play).\n",
    "- Our function will see an integer between 1 and 13,983,816 (the maximum number of different tickets).\n",
    "- The function should print information about the probability of winning the big prize depending on the number of different tickets played.\n",
    "\n",
    "We will write a function named multi_ticket_probability() that prints the probability of winning the big prize depending on the number of different tickets played."
   ]
  },
  {
   "cell_type": "code",
   "execution_count": 33,
   "metadata": {},
   "outputs": [
    {
     "name": "stdout",
     "output_type": "stream",
     "text": [
      "You chances to win the big prize with one ticket are 0.0000072%.\n",
      "        In other words, you have a 1 n 13,983,816 chances to win.\n",
      "- - - - - - - - - - - - - - - - - - - - - - - - - - - - - - - - \n",
      "You chances to win the big prize with one ticket are 7.1511310%.\n",
      "        In other words, you have a 1 n 14 chances to win.\n",
      "- - - - - - - - - - - - - - - - - - - - - - - - - - - - - - - - \n",
      "You chances to win the big prize with one ticket are 14.3022548%.\n",
      "        In other words, you have a 1 n 7 chances to win.\n",
      "- - - - - - - - - - - - - - - - - - - - - - - - - - - - - - - - \n",
      "You chances to win the big prize with one ticket are 21.4533787%.\n",
      "        In other words, you have a 1 n 5 chances to win.\n",
      "- - - - - - - - - - - - - - - - - - - - - - - - - - - - - - - - \n",
      "You chances to win the big prize with one ticket are 28.6045025%.\n",
      "        In other words, you have a 1 n 3 chances to win.\n",
      "- - - - - - - - - - - - - - - - - - - - - - - - - - - - - - - - \n",
      "You chances to win the big prize with one ticket are 35.7556264%.\n",
      "        In other words, you have a 1 n 3 chances to win.\n",
      "- - - - - - - - - - - - - - - - - - - - - - - - - - - - - - - - \n",
      "You chances to win the big prize with one ticket are 42.9067502%.\n",
      "        In other words, you have a 1 n 2 chances to win.\n",
      "- - - - - - - - - - - - - - - - - - - - - - - - - - - - - - - - \n",
      "You chances to win the big prize with one ticket are 50.0578740%.\n",
      "        In other words, you have a 1 n 2 chances to win.\n",
      "- - - - - - - - - - - - - - - - - - - - - - - - - - - - - - - - \n",
      "You chances to win the big prize with one ticket are 57.2089979%.\n",
      "        In other words, you have a 1 n 2 chances to win.\n",
      "- - - - - - - - - - - - - - - - - - - - - - - - - - - - - - - - \n",
      "You chances to win the big prize with one ticket are 64.3601217%.\n",
      "        In other words, you have a 1 n 2 chances to win.\n",
      "- - - - - - - - - - - - - - - - - - - - - - - - - - - - - - - - \n"
     ]
    }
   ],
   "source": [
    "def multi_ticket_probability(n_tickets):\n",
    "    \n",
    "    total_outcome = combination(49, 6)\n",
    "    percentage_win = 100*n_tickets / total_outcome\n",
    "    \n",
    "    if n_tickets == 1:\n",
    "        print('''You chances to win the big prize with one ticket are {:.7f}%.\n",
    "        In other words, you have a 1 n {:,} chances to win.'''.format(percentage_win, int(total_outcome)))\n",
    "    else:\n",
    "        print('''You chances to win the big prize with one ticket are {:.7f}%.\n",
    "        In other words, you have a 1 n {:,} chances to win.'''.format(percentage_win, int(round(total_outcome/n_tickets))))\n",
    "\n",
    "import numpy as np\n",
    "num_tickets = np.arange(1, 10000000, 1000000)\n",
    "for ticket in num_tickets:\n",
    "    multi_ticket_probability(ticket)\n",
    "    print('- '*32)"
   ]
  },
  {
   "cell_type": "markdown",
   "metadata": {},
   "source": [
    "# Less winning numbers - function\n",
    "\n",
    "In most 6/49 lotteries, there are smaller prizes if a player's ticket match two, three, four, or five of the six numbers drawn. This means that players might be interested in finding out the probability of having two, three, four, or five winning numbers — for the first version of the app, users should be able to find those probabilities.\n",
    "\n",
    "These are the details we need to be aware of when we write a function to make the calculations of those probabilities possible:\n",
    "\n",
    "Inside the app, the user inputs:\n",
    "six different numbers from 1 to 49; and\n",
    "an integer between 2 and 5 that represents the number of winning numbers expected\n",
    "Our function prints information about the probability of having a certain number of winning numbers\n",
    "To calculate the probabilities, we tell the engineering team that the specific combination on the ticket is irrelevant and we only need the integer between 2 and 5 representing the number of winning numbers expected. Consequently, we will write a function named probability_less_6() which takes in an integer and prints information about the chances of winning depending on the value of that integer.\n",
    "\n",
    "The function below calculates the probability that a player's ticket matches exactly the given number of winning numbers. If the player wants to find out the probability of having five winning numbers, the function will return the probability of having five winning numbers exactly (no more and no less). The function will not return the probability of having at least five winning numbers.\n",
    "\n",
    "\\begin{equation*}\n",
    "P(E)   = \\frac{{6 \\choose k}{49-6 \\choose 6-k}}{49 \\choose 6}\n",
    "\\end{equation*}"
   ]
  },
  {
   "cell_type": "code",
   "execution_count": 43,
   "metadata": {},
   "outputs": [],
   "source": [
    "def probability_less_6(n_winning_number):\n",
    "    \n",
    "    total_outcome = combination(49, 6)\n",
    "    success_outcome = combination(6, n_winning_number)*combination(49-6, 6-n_winning_number)\n",
    "    probability_percentage = 100*success_outcome/total_outcome\n",
    "    \n",
    "    print('''Your chances of having {} winning number with this ticket are {:.7f}%.\n",
    "    In other words, you have a 1 in {:,} chances to win.'''.format(n_winning_number, probability_percentage, int(round(total_outcome/success_outcome))))"
   ]
  },
  {
   "cell_type": "code",
   "execution_count": 45,
   "metadata": {},
   "outputs": [
    {
     "name": "stdout",
     "output_type": "stream",
     "text": [
      "Your chances of having 2 winning number with this ticket are 13.2378029%.\n",
      "    In other words, you have a 1 in 8 chances to win.\n",
      "--------------------------------\n",
      "Your chances of having 3 winning number with this ticket are 1.7650404%.\n",
      "    In other words, you have a 1 in 57 chances to win.\n",
      "--------------------------------\n",
      "Your chances of having 4 winning number with this ticket are 0.0968620%.\n",
      "    In other words, you have a 1 in 1,032 chances to win.\n",
      "--------------------------------\n",
      "Your chances of having 5 winning number with this ticket are 0.0018450%.\n",
      "    In other words, you have a 1 in 54,201 chances to win.\n",
      "--------------------------------\n"
     ]
    }
   ],
   "source": [
    "for n in np.arange(2, 6):\n",
    "    probability_less_6(n)\n",
    "    print('-'*32)"
   ]
  },
  {
   "cell_type": "markdown",
   "metadata": {},
   "source": [
    "# Next steps\n",
    "\n",
    "For the first version of the app, we coded four main functions:\n",
    "\n",
    "- one_ticket_probability() — calculates the probability of winning the big prize with a single ticket\n",
    "- check_historical_occurrence() — checks whether a certain combination has occurred in the Canada lottery data set\n",
    "- multi_ticket_probability() — calculates the probability for any number of of tickets between 1 and 13,983,816\n",
    "- probability_less_6() — calculates the probability of having two, three, four or five winning numbers exactly\n",
    "\n",
    "Possible features for a second version of the app include:\n",
    "\n",
    "- Making the outputs even easier to understand by adding fun analogies (for example, we can find probabilities for strange events and compare with the chances of winning in lottery; for instance, we can output something along the lines \"You are 100 times more likely to be the victim of a shark attack than winning the lottery\")\n",
    "- Combining the one_ticket_probability() and check_historical_occurrence() to output information on probability and historical occurrence at the same time\n",
    "- Create a function similar to probability_less_6() which calculates the probability of having at least two, three, four or five winning numbers. Hint: the number of successful outcomes for having at least four winning numbers is the sum of these three numbers:\n",
    "  - The number of successful outcomes for having four winning numbers exactly\n",
    "  - The number of successful outcomes for having five winning numbers exactly\n",
    "  - The number of successful outcomes for having six winning numbers exactly"
   ]
  },
  {
   "cell_type": "code",
   "execution_count": null,
   "metadata": {},
   "outputs": [],
   "source": []
  }
 ],
 "metadata": {
  "kernelspec": {
   "display_name": "Python 3",
   "language": "python",
   "name": "python3"
  },
  "language_info": {
   "codemirror_mode": {
    "name": "ipython",
    "version": 3
   },
   "file_extension": ".py",
   "mimetype": "text/x-python",
   "name": "python",
   "nbconvert_exporter": "python",
   "pygments_lexer": "ipython3",
   "version": "3.6.4"
  }
 },
 "nbformat": 4,
 "nbformat_minor": 2
}
