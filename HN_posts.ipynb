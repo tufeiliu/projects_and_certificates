{
 "cells": [
  {
   "cell_type": "markdown",
   "metadata": {},
   "source": [
    "# Exploring Hacker News Post\n",
    "\n",
    "In this project, we'll work with a data set of submissions to popular technology site Hacker News.\n",
    "\n",
    "Hacker News is a site started by the startup incubator Y Combinator, where user-submitted stories (known as \"posts\") are voted and commented upon, similar to reddit. Hacker News is extremely popular in technology and startup circles, and posts that make it to the top of Hacker News' listings can get hundreds of thousands of visitors as a result.\n",
    "\n",
    "You can find the data set here, but note that it has been reduced from almost 300,000 rows to approximately 20,000 rows by removing all submissions that did not receive any comments, and then randomly sampling from the remaining submissions. Below are descriptions of the columns:\n",
    "\n",
    "- id: The unique identifier from Hacker News for the post\n",
    "- title: The title of the post\n",
    "- url: The URL that the posts links to, if the post has a URL\n",
    "- num_points: The number of points the post acquired, calculated as the total number of upvotes minus the total number of downvotes\n",
    "- num_comments: The number of comments that were made on the post\n",
    "- author: The username of the person who submitted the post\n",
    "- created_at: The date and time at which the post was submitted\n",
    "\n",
    "***\n",
    "We're specifically interested in posts whose titles begin with either Ask HN or Show HN. Users submit Ask HN posts to ask the Hacker News community a specific question. Below are a couple examples:\n",
    "\n",
    "> Ask HN: How to improve my personal website?<br>\n",
    "Ask HN: Am I the only one outraged by Twitter shutting down share counts?<br>\n",
    "Ask HN: Aby recent changes to CSS that broke mobile?\n",
    "\n",
    "Likewise, users submit Show HN posts to show the Hacker News community a project, product, or just generally something interesting. Below are a couple of examples:\n",
    "\n",
    "> Show HN: Wio Link  ESP8266 Based Web of Things Hardware Development Platform'<br>\n",
    "Show HN: Something pointless I made<br>\n",
    "Show HN: Shanhu.io, a programming playground powered by e8vm<br>\n",
    "\n",
    "We'll compare these two types of posts to determine the following:\n",
    "\n",
    "Do Ask HN or Show HN receive more comments on average?\n",
    "Do posts created at a certain time receive more comments on average?"
   ]
  },
  {
   "cell_type": "markdown",
   "metadata": {},
   "source": [
    "# Read in the data"
   ]
  },
  {
   "cell_type": "code",
   "execution_count": 3,
   "metadata": {},
   "outputs": [
    {
     "name": "stdout",
     "output_type": "stream",
     "text": [
      "['id', 'title', 'url', 'num_points', 'num_comments', 'author', 'created_at']\n",
      "\n",
      "\n",
      "[['12579008', 'You have two days to comment if you want stem cells to be classified as your own', 'http://www.regulations.gov/document?D=FDA-2015-D-3719-0018', '1', '0', 'altstar', '9/26/2016 3:26'], ['12579005', 'SQLAR  the SQLite Archiver', 'https://www.sqlite.org/sqlar/doc/trunk/README.md', '1', '0', 'blacksqr', '9/26/2016 3:24'], ['12578997', 'What if we just printed a flatscreen television on the side of our boxes?', 'https://medium.com/vanmoof/our-secrets-out-f21c1f03fdc8#.ietxmez43', '1', '0', 'pavel_lishin', '9/26/2016 3:19'], ['12578989', 'algorithmic music', 'http://cacm.acm.org/magazines/2011/7/109891-algorithmic-composition/fulltext', '1', '0', 'poindontcare', '9/26/2016 3:16']]\n"
     ]
    }
   ],
   "source": [
    "from csv import reader\n",
    "opened_file = open('HN_posts_year_to_Sep_26_2016.csv', encoding=\"utf8\")\n",
    "\n",
    "read_file = reader(opened_file)\n",
    "hn_data = list(read_file)\n",
    "headers = hn_data[0]\n",
    "hn = hn_data[1:]\n",
    "\n",
    "print(headers)\n",
    "print('\\n')\n",
    "print(hn[:4])"
   ]
  },
  {
   "cell_type": "markdown",
   "metadata": {},
   "source": [
    "# Extracting the ASK HN and SHOW HN posts"
   ]
  },
  {
   "cell_type": "code",
   "execution_count": 9,
   "metadata": {},
   "outputs": [
    {
     "name": "stdout",
     "output_type": "stream",
     "text": [
      "ask_posts length:  9139\n",
      "show_posts_length:  10158\n",
      "other_posts_length:  273822\n",
      "[['12578908', 'Ask HN: What TLD do you use for local development?', '', '4', '7', 'Sevrene', '9/26/2016 2:53'], ['12578522', 'Ask HN: How do you pass on your work when you die?', '', '6', '3', 'PascLeRasc', '9/26/2016 1:17'], ['12577908', 'Ask HN: How a DNS problem can be limited to a geographic region?', '', '1', '0', 'kuon', '9/25/2016 22:57'], ['12577870', 'Ask HN: Why join a fund when you can be an angel?', '', '1', '3', 'anthony_james', '9/25/2016 22:48'], ['12577647', 'Ask HN: Someone uses stock trading as passive income?', '', '5', '2', '00taffe', '9/25/2016 21:50']]\n"
     ]
    }
   ],
   "source": [
    "ask_posts = []\n",
    "show_posts = []\n",
    "other_posts = []\n",
    "\n",
    "for row in hn:\n",
    "    title = row[1]\n",
    "    if title.lower().startswith('ask hn'):\n",
    "        ask_posts.append(row)\n",
    "    elif title.lower().startswith('show hn'):\n",
    "        show_posts.append(row)\n",
    "    else:\n",
    "        other_posts.append(row)\n",
    "\n",
    "print('ask_posts length: ', len(ask_posts))\n",
    "print('show_posts_length: ', len(show_posts))\n",
    "print('other_posts_length: ', len(other_posts))\n"
   ]
  },
  {
   "cell_type": "markdown",
   "metadata": {},
   "source": [
    "# Calculating the Average Number of Comments for Ask HN and Show HN Posts"
   ]
  },
  {
   "cell_type": "code",
   "execution_count": 14,
   "metadata": {},
   "outputs": [
    {
     "name": "stdout",
     "output_type": "stream",
     "text": [
      "total_ask_comments:  94986\n",
      "avg_ask_comments:  10.393478498741656\n",
      "\n",
      "\n",
      "total_show_comments:  49633\n",
      "avg_show_comments:  4.886099625910612\n"
     ]
    }
   ],
   "source": [
    "def count_comments(posts, index):\n",
    "    total_comments = 0\n",
    "    for row in posts:\n",
    "        total_comments += int(row[index])\n",
    "    avg_comments = total_comments / len(posts)\n",
    "    return total_comments, avg_comments\n",
    "\n",
    "total_ask_comments, avg_ask_comments = count_comments(ask_posts, 4)\n",
    "print('total_ask_comments: ', total_ask_comments)\n",
    "print('avg_ask_comments: ', avg_ask_comments)\n",
    "\n",
    "total_show_comments, avg_show_comments = count_comments(show_posts, 4)\n",
    "print('\\n')\n",
    "print('total_show_comments: ', total_show_comments)\n",
    "print('avg_show_comments: ', avg_show_comments)\n",
    "        "
   ]
  },
  {
   "cell_type": "markdown",
   "metadata": {},
   "source": [
    "On average, ask posts in our sample receive approximately 10 comments, whereas show posts receive approximately 4. Since ask posts are more likely to receive comments, we'll focus our remaining analysis just on these posts.\n",
    "\n",
    "Next, we'll determine if ask posts created at a certain time are more likely to attract comments. We'll use the following steps to perform this analysis:\n",
    "\n",
    "1. Calculate the amount of ask posts created in each hour of the day, along with the number of comments received.\n",
    "2. Calculate the average number of comments ask posts receive by hour created."
   ]
  },
  {
   "cell_type": "markdown",
   "metadata": {},
   "source": [
    "# Finding the Amount of Ask Posts and Comments by Hour Created"
   ]
  },
  {
   "cell_type": "code",
   "execution_count": 21,
   "metadata": {},
   "outputs": [
    {
     "name": "stdout",
     "output_type": "stream",
     "text": [
      "ask_counts_by_hour:  {'02': 269, '01': 282, '22': 383, '21': 518, '19': 552, '17': 587, '15': 646, '14': 513, '13': 444, '11': 312, '10': 282, '09': 222, '07': 226, '03': 271, '23': 343, '20': 510, '16': 579, '08': 257, '00': 301, '18': 614, '12': 342, '04': 243, '06': 234, '05': 209}\n",
      "\n",
      "\n",
      "ask_comments_by_hour:  {'02': 2996, '01': 2089, '22': 3372, '21': 4500, '19': 3954, '17': 5547, '15': 18525, '14': 4972, '13': 7245, '11': 2797, '10': 3013, '09': 1477, '07': 1585, '03': 2154, '23': 2297, '20': 4462, '16': 4466, '08': 2362, '00': 2277, '18': 4877, '12': 4234, '04': 2360, '06': 1587, '05': 1838}\n"
     ]
    }
   ],
   "source": [
    "import datetime as dt\n",
    "\n",
    "def posts_created_by_hour(posts, index_1, index_2):\n",
    "    counts_by_hour = {}\n",
    "    comments_by_hour = {}\n",
    "    for row in posts:\n",
    "        to_date = dt.datetime.strptime(row[index_1],  \"%m/%d/%Y %H:%M\")\n",
    "        hour = to_date.strftime('%H')\n",
    "        num_comments = int(row[index_2])\n",
    "        \n",
    "        if hour not in counts_by_hour:\n",
    "            counts_by_hour[hour] = 1\n",
    "            comments_by_hour[hour] = num_comments\n",
    "        else:\n",
    "            counts_by_hour[hour] += 1\n",
    "            comments_by_hour[hour] += num_comments\n",
    "    return counts_by_hour, comments_by_hour\n",
    "\n",
    "    \n",
    "ask_counts_by_hour,ask_comments_by_hour = posts_created_by_hour(ask_posts, 6, 4)\n",
    "\n",
    "print('ask_counts_by_hour: ', ask_counts_by_hour)\n",
    "print('\\n')\n",
    "print('ask_comments_by_hour: ', ask_comments_by_hour)"
   ]
  },
  {
   "cell_type": "markdown",
   "metadata": {},
   "source": [
    "# Calculating the Average Number of Comments for Ask HN Posts by Hour"
   ]
  },
  {
   "cell_type": "code",
   "execution_count": 28,
   "metadata": {},
   "outputs": [
    {
     "name": "stdout",
     "output_type": "stream",
     "text": [
      "ask_avg_by_hour_sorted:  [['15', 28.676470588235293], ['13', 16.31756756756757], ['12', 12.380116959064328], ['02', 11.137546468401487], ['10', 10.684397163120567], ['04', 9.7119341563786], ['14', 9.692007797270955], ['17', 9.449744463373083], ['08', 9.190661478599221], ['11', 8.96474358974359], ['22', 8.804177545691905], ['05', 8.794258373205741], ['20', 8.749019607843136], ['21', 8.687258687258687], ['03', 7.948339483394834], ['18', 7.94299674267101], ['16', 7.713298791018998], ['00', 7.5647840531561465], ['01', 7.407801418439717], ['19', 7.163043478260869], ['07', 7.013274336283186], ['06', 6.782051282051282], ['23', 6.696793002915452], ['09', 6.653153153153153]]\n",
      "\n",
      "\n",
      "Top 5 hours for 'Ash HN' Comments\n",
      "15:00: 28.68 avgerage comments per post\n",
      "13:00: 16.32 avgerage comments per post\n",
      "12:00: 12.38 avgerage comments per post\n",
      "02:00: 11.14 avgerage comments per post\n",
      "10:00: 10.68 avgerage comments per post\n"
     ]
    }
   ],
   "source": [
    "def avg_comments_by_hour(hour_dict, comments_dict):\n",
    "    avg_by_hour = []\n",
    "    for key in hour_dict:\n",
    "        avg_by_hour.append([key, comments_dict[key]/hour_dict[key]])\n",
    "    return avg_by_hour\n",
    "\n",
    "ask_avg_by_hour = avg_comments_by_hour(ask_counts_by_hour,ask_comments_by_hour)\n",
    "ask_avg_by_hour_sorted = sorted(ask_avg_by_hour,  reverse=True, key=lambda x: x[1])\n",
    "print('ask_avg_by_hour_sorted: ', ask_avg_by_hour_sorted)\n",
    "\n",
    "print('\\n')\n",
    "print(\"Top 5 hours for 'Ash HN' Comments\")\n",
    "for hrs, avg in ask_avg_by_hour_sorted[:5]:\n",
    "    print('{hour}: {avg:.2f} avgerage comments per post'.format(hour=dt.datetime.strptime(hrs, '%H').strftime('%H:%M'), avg=avg))"
   ]
  },
  {
   "cell_type": "raw",
   "metadata": {},
   "source": [
    "The hour that receives the most comments per post on average is 15:00, with an average of 28.68 comments per post. There's about a 60% increase in the number of comments between the hours with the highest and second highest average number of comments.\n",
    "\n",
    "According to the data set documentation, the timezone used is Eastern Time in the US. So, we could also write 15:00 as 3:00 pm est."
   ]
  },
  {
   "cell_type": "markdown",
   "metadata": {},
   "source": [
    "# Conclusion"
   ]
  },
  {
   "cell_type": "markdown",
   "metadata": {},
   "source": [
    "In this project, we analyzed ask posts and show posts to determine which type of post and time receive the most comments on average. Based on our analysis, to maximize the amount of comments a post receives, we'd recommend the post be categorized as ask post and created between 15:00 and 16:00 (3:00 pm est - 4:00 pm est).\n",
    "\n",
    "However, it should be noted that the data set we analyzed excluded posts without any comments. Given that, it's more accurate to say that of the posts that received comments, ask posts received more comments on average and ask posts created between 15:00 and 16:00 (3:00 pm est - 4:00 pm est) received the most comments on average."
   ]
  }
 ],
 "metadata": {
  "kernelspec": {
   "display_name": "Python 3",
   "language": "python",
   "name": "python3"
  },
  "language_info": {
   "codemirror_mode": {
    "name": "ipython",
    "version": 3
   },
   "file_extension": ".py",
   "mimetype": "text/x-python",
   "name": "python",
   "nbconvert_exporter": "python",
   "pygments_lexer": "ipython3",
   "version": "3.6.4"
  }
 },
 "nbformat": 4,
 "nbformat_minor": 2
}
