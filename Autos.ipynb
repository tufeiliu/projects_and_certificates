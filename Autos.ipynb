{
 "cells": [
  {
   "cell_type": "markdown",
   "metadata": {},
   "source": [
    "# Analyzing Used Car Listings on eBay Kleinanzeigen\n",
    "\n",
    "We will be working on a dataset of used cars from eBay Kleinanzeigen, a classifieds section of the German eBay website.\n",
    "\n",
    "The dataset was originally scraped and uploaded to Kaggle by user orgesleka.\n",
    "The original dataset isn't available on Kaggle anymore, but you can find it [here](https://data.world/data-society/used-cars-data).\n",
    "\n",
    "The data dictionary provided with data is as follows:\n",
    "\n",
    "- **dateCrawled** - When this ad was first crawled. All field-values are taken from this date.\n",
    "- **name** - Name of the car.\n",
    "- **seller** - Whether the seller is private or a dealer.\n",
    "- **offerType** - The type of listing\n",
    "- **price** - The price on the ad to sell the car.\n",
    "- **abtest** - Whether the listing is included in an A/B test.\n",
    "- **vehicleType** - The vehicle Type.\n",
    "- **yearOfRegistration** - The year in which which year the car was first registered.\n",
    "- **gearbox** - The transmission type.\n",
    "- **powerPS** - The power of the car in PS.\n",
    "- **model** - The car model name.\n",
    "- **kilometer** - How many kilometers the car has driven.\n",
    "- **monthOfRegistration** - The month in which which year the car was first registered.\n",
    "- **fuelType** - What type of fuel the car uses.\n",
    "- **brand** - The brand of the car.\n",
    "- **notRepairedDamage** - If the car has a damage which is not yet repaired.\n",
    "- **dateCreated** - The date on which the eBay listing was created.\n",
    "- **nrOfPictures** - The number of pictures in the ad.\n",
    "- **postalCode** - The postal code for the location of the vehicle.\n",
    "- **lastSeenOnline** - When the crawler saw this ad last online.\n",
    "\n",
    "The aim of this project is to clean the data and analyze the included used car listings."
   ]
  },
  {
   "cell_type": "code",
   "execution_count": 1,
   "metadata": {},
   "outputs": [
    {
     "data": {
      "text/html": [
       "<div>\n",
       "<style scoped>\n",
       "    .dataframe tbody tr th:only-of-type {\n",
       "        vertical-align: middle;\n",
       "    }\n",
       "\n",
       "    .dataframe tbody tr th {\n",
       "        vertical-align: top;\n",
       "    }\n",
       "\n",
       "    .dataframe thead th {\n",
       "        text-align: right;\n",
       "    }\n",
       "</style>\n",
       "<table border=\"1\" class=\"dataframe\">\n",
       "  <thead>\n",
       "    <tr style=\"text-align: right;\">\n",
       "      <th></th>\n",
       "      <th>dateCrawled</th>\n",
       "      <th>name</th>\n",
       "      <th>seller</th>\n",
       "      <th>offerType</th>\n",
       "      <th>price</th>\n",
       "      <th>abtest</th>\n",
       "      <th>vehicleType</th>\n",
       "      <th>yearOfRegistration</th>\n",
       "      <th>gearbox</th>\n",
       "      <th>powerPS</th>\n",
       "      <th>model</th>\n",
       "      <th>kilometer</th>\n",
       "      <th>monthOfRegistration</th>\n",
       "      <th>fuelType</th>\n",
       "      <th>brand</th>\n",
       "      <th>notRepairedDamage</th>\n",
       "      <th>dateCreated</th>\n",
       "      <th>nrOfPictures</th>\n",
       "      <th>postalCode</th>\n",
       "      <th>lastSeen</th>\n",
       "    </tr>\n",
       "  </thead>\n",
       "  <tbody>\n",
       "    <tr>\n",
       "      <th>0</th>\n",
       "      <td>2016-03-24 11:52:17</td>\n",
       "      <td>Golf_3_1.6</td>\n",
       "      <td>privat</td>\n",
       "      <td>Angebot</td>\n",
       "      <td>480</td>\n",
       "      <td>test</td>\n",
       "      <td>NaN</td>\n",
       "      <td>1993</td>\n",
       "      <td>manuell</td>\n",
       "      <td>0</td>\n",
       "      <td>golf</td>\n",
       "      <td>150000</td>\n",
       "      <td>0</td>\n",
       "      <td>benzin</td>\n",
       "      <td>volkswagen</td>\n",
       "      <td>NaN</td>\n",
       "      <td>2016-03-24 00:00:00</td>\n",
       "      <td>0</td>\n",
       "      <td>70435</td>\n",
       "      <td>2016-04-07 03:16:57</td>\n",
       "    </tr>\n",
       "    <tr>\n",
       "      <th>1</th>\n",
       "      <td>2016-03-24 10:58:45</td>\n",
       "      <td>A5_Sportback_2.7_Tdi</td>\n",
       "      <td>privat</td>\n",
       "      <td>Angebot</td>\n",
       "      <td>18300</td>\n",
       "      <td>test</td>\n",
       "      <td>coupe</td>\n",
       "      <td>2011</td>\n",
       "      <td>manuell</td>\n",
       "      <td>190</td>\n",
       "      <td>NaN</td>\n",
       "      <td>125000</td>\n",
       "      <td>5</td>\n",
       "      <td>diesel</td>\n",
       "      <td>audi</td>\n",
       "      <td>ja</td>\n",
       "      <td>2016-03-24 00:00:00</td>\n",
       "      <td>0</td>\n",
       "      <td>66954</td>\n",
       "      <td>2016-04-07 01:46:50</td>\n",
       "    </tr>\n",
       "    <tr>\n",
       "      <th>2</th>\n",
       "      <td>2016-03-14 12:52:21</td>\n",
       "      <td>Jeep_Grand_Cherokee_\"Overland\"</td>\n",
       "      <td>privat</td>\n",
       "      <td>Angebot</td>\n",
       "      <td>9800</td>\n",
       "      <td>test</td>\n",
       "      <td>suv</td>\n",
       "      <td>2004</td>\n",
       "      <td>automatik</td>\n",
       "      <td>163</td>\n",
       "      <td>grand</td>\n",
       "      <td>125000</td>\n",
       "      <td>8</td>\n",
       "      <td>diesel</td>\n",
       "      <td>jeep</td>\n",
       "      <td>NaN</td>\n",
       "      <td>2016-03-14 00:00:00</td>\n",
       "      <td>0</td>\n",
       "      <td>90480</td>\n",
       "      <td>2016-04-05 12:47:46</td>\n",
       "    </tr>\n",
       "    <tr>\n",
       "      <th>3</th>\n",
       "      <td>2016-03-17 16:54:04</td>\n",
       "      <td>GOLF_4_1_4__3TÜRER</td>\n",
       "      <td>privat</td>\n",
       "      <td>Angebot</td>\n",
       "      <td>1500</td>\n",
       "      <td>test</td>\n",
       "      <td>kleinwagen</td>\n",
       "      <td>2001</td>\n",
       "      <td>manuell</td>\n",
       "      <td>75</td>\n",
       "      <td>golf</td>\n",
       "      <td>150000</td>\n",
       "      <td>6</td>\n",
       "      <td>benzin</td>\n",
       "      <td>volkswagen</td>\n",
       "      <td>nein</td>\n",
       "      <td>2016-03-17 00:00:00</td>\n",
       "      <td>0</td>\n",
       "      <td>91074</td>\n",
       "      <td>2016-03-17 17:40:17</td>\n",
       "    </tr>\n",
       "    <tr>\n",
       "      <th>4</th>\n",
       "      <td>2016-03-31 17:25:20</td>\n",
       "      <td>Skoda_Fabia_1.4_TDI_PD_Classic</td>\n",
       "      <td>privat</td>\n",
       "      <td>Angebot</td>\n",
       "      <td>3600</td>\n",
       "      <td>test</td>\n",
       "      <td>kleinwagen</td>\n",
       "      <td>2008</td>\n",
       "      <td>manuell</td>\n",
       "      <td>69</td>\n",
       "      <td>fabia</td>\n",
       "      <td>90000</td>\n",
       "      <td>7</td>\n",
       "      <td>diesel</td>\n",
       "      <td>skoda</td>\n",
       "      <td>nein</td>\n",
       "      <td>2016-03-31 00:00:00</td>\n",
       "      <td>0</td>\n",
       "      <td>60437</td>\n",
       "      <td>2016-04-06 10:17:21</td>\n",
       "    </tr>\n",
       "  </tbody>\n",
       "</table>\n",
       "</div>"
      ],
      "text/plain": [
       "           dateCrawled                            name  seller offerType  \\\n",
       "0  2016-03-24 11:52:17                      Golf_3_1.6  privat   Angebot   \n",
       "1  2016-03-24 10:58:45            A5_Sportback_2.7_Tdi  privat   Angebot   \n",
       "2  2016-03-14 12:52:21  Jeep_Grand_Cherokee_\"Overland\"  privat   Angebot   \n",
       "3  2016-03-17 16:54:04              GOLF_4_1_4__3TÜRER  privat   Angebot   \n",
       "4  2016-03-31 17:25:20  Skoda_Fabia_1.4_TDI_PD_Classic  privat   Angebot   \n",
       "\n",
       "   price abtest vehicleType  yearOfRegistration    gearbox  powerPS  model  \\\n",
       "0    480   test         NaN                1993    manuell        0   golf   \n",
       "1  18300   test       coupe                2011    manuell      190    NaN   \n",
       "2   9800   test         suv                2004  automatik      163  grand   \n",
       "3   1500   test  kleinwagen                2001    manuell       75   golf   \n",
       "4   3600   test  kleinwagen                2008    manuell       69  fabia   \n",
       "\n",
       "   kilometer  monthOfRegistration fuelType       brand notRepairedDamage  \\\n",
       "0     150000                    0   benzin  volkswagen               NaN   \n",
       "1     125000                    5   diesel        audi                ja   \n",
       "2     125000                    8   diesel        jeep               NaN   \n",
       "3     150000                    6   benzin  volkswagen              nein   \n",
       "4      90000                    7   diesel       skoda              nein   \n",
       "\n",
       "           dateCreated  nrOfPictures  postalCode             lastSeen  \n",
       "0  2016-03-24 00:00:00             0       70435  2016-04-07 03:16:57  \n",
       "1  2016-03-24 00:00:00             0       66954  2016-04-07 01:46:50  \n",
       "2  2016-03-14 00:00:00             0       90480  2016-04-05 12:47:46  \n",
       "3  2016-03-17 00:00:00             0       91074  2016-03-17 17:40:17  \n",
       "4  2016-03-31 00:00:00             0       60437  2016-04-06 10:17:21  "
      ]
     },
     "execution_count": 1,
     "metadata": {},
     "output_type": "execute_result"
    }
   ],
   "source": [
    "import numpy as np\n",
    "import pandas as pd\n",
    "\n",
    "#Try without specifying any encoding (which will default to UTF-8)\n",
    "#If you get an encoding error, try the next two most popular encodings \n",
    "#(Latin-1 and Windows-1252) until you are able to read the file without error.\n",
    "autos = pd.read_csv('autos.csv', encoding='Latin-1') \n",
    "autos.head()\n"
   ]
  },
  {
   "cell_type": "markdown",
   "metadata": {},
   "source": [
    "From the above information, we can make the following observations:\n",
    "\n",
    "- The dataset contains 20 columns, most of which are strings.\n",
    "- Some columns have null values, but none have more than ~20% null values.\n",
    "- The column names use camelcase instead of Python's preferred snakecase, which means we can't just replace spaces with underscores.\n",
    "\n",
    "Let's convert the column names from camelcase to snakecase and reword some of the column names based on the data dictionary to be more descriptive.\n"
   ]
  },
  {
   "cell_type": "code",
   "execution_count": 2,
   "metadata": {},
   "outputs": [
    {
     "name": "stdout",
     "output_type": "stream",
     "text": [
      "<class 'pandas.core.frame.DataFrame'>\n",
      "RangeIndex: 371528 entries, 0 to 371527\n",
      "Data columns (total 20 columns):\n",
      "dateCrawled            371528 non-null object\n",
      "name                   371528 non-null object\n",
      "seller                 371528 non-null object\n",
      "offerType              371528 non-null object\n",
      "price                  371528 non-null int64\n",
      "abtest                 371528 non-null object\n",
      "vehicleType            333659 non-null object\n",
      "yearOfRegistration     371528 non-null int64\n",
      "gearbox                351319 non-null object\n",
      "powerPS                371528 non-null int64\n",
      "model                  351044 non-null object\n",
      "kilometer              371528 non-null int64\n",
      "monthOfRegistration    371528 non-null int64\n",
      "fuelType               338142 non-null object\n",
      "brand                  371528 non-null object\n",
      "notRepairedDamage      299468 non-null object\n",
      "dateCreated            371528 non-null object\n",
      "nrOfPictures           371528 non-null int64\n",
      "postalCode             371528 non-null int64\n",
      "lastSeen               371528 non-null object\n",
      "dtypes: int64(7), object(13)\n",
      "memory usage: 56.7+ MB\n"
     ]
    }
   ],
   "source": [
    "autos.info()"
   ]
  },
  {
   "cell_type": "markdown",
   "metadata": {},
   "source": [
    "# Cleaning column names"
   ]
  },
  {
   "cell_type": "code",
   "execution_count": 2,
   "metadata": {},
   "outputs": [
    {
     "name": "stdout",
     "output_type": "stream",
     "text": [
      "Original CamelCase style: \n",
      "Index(['dateCrawled', 'name', 'seller', 'offerType', 'price', 'abtest',\n",
      "       'vehicleType', 'yearOfRegistration', 'gearbox', 'powerPS', 'model',\n",
      "       'kilometer', 'monthOfRegistration', 'fuelType', 'brand',\n",
      "       'notRepairedDamage', 'dateCreated', 'nrOfPictures', 'postalCode',\n",
      "       'lastSeen'],\n",
      "      dtype='object')\n",
      "\n",
      "\n",
      "Updated to snakecase style: \n",
      "Index(['date_crawled', 'name', 'seller', 'offer_type', 'price', 'abtest',\n",
      "       'vehicle_type', 'registration_year', 'gearbox', 'power_ps', 'model',\n",
      "       'kilometer', 'registration_month', 'fuel_type', 'brand',\n",
      "       'unrepaired_damage', 'ad_created', 'pictures_nr', 'postal_code',\n",
      "       'last_seen'],\n",
      "      dtype='object')\n",
      "\n",
      "\n",
      "          date_crawled                            name  seller offer_type  \\\n",
      "0  2016-03-24 11:52:17                      Golf_3_1.6  privat    Angebot   \n",
      "1  2016-03-24 10:58:45            A5_Sportback_2.7_Tdi  privat    Angebot   \n",
      "2  2016-03-14 12:52:21  Jeep_Grand_Cherokee_\"Overland\"  privat    Angebot   \n",
      "3  2016-03-17 16:54:04              GOLF_4_1_4__3TÜRER  privat    Angebot   \n",
      "4  2016-03-31 17:25:20  Skoda_Fabia_1.4_TDI_PD_Classic  privat    Angebot   \n",
      "\n",
      "   price abtest vehicle_type  registration_year    gearbox  power_ps  model  \\\n",
      "0    480   test          NaN               1993    manuell         0   golf   \n",
      "1  18300   test        coupe               2011    manuell       190    NaN   \n",
      "2   9800   test          suv               2004  automatik       163  grand   \n",
      "3   1500   test   kleinwagen               2001    manuell        75   golf   \n",
      "4   3600   test   kleinwagen               2008    manuell        69  fabia   \n",
      "\n",
      "   kilometer  registration_month fuel_type       brand unrepaired_damage  \\\n",
      "0     150000                   0    benzin  volkswagen               NaN   \n",
      "1     125000                   5    diesel        audi                ja   \n",
      "2     125000                   8    diesel        jeep               NaN   \n",
      "3     150000                   6    benzin  volkswagen              nein   \n",
      "4      90000                   7    diesel       skoda              nein   \n",
      "\n",
      "            ad_created  pictures_nr  postal_code            last_seen  \n",
      "0  2016-03-24 00:00:00            0        70435  2016-04-07 03:16:57  \n",
      "1  2016-03-24 00:00:00            0        66954  2016-04-07 01:46:50  \n",
      "2  2016-03-14 00:00:00            0        90480  2016-04-05 12:47:46  \n",
      "3  2016-03-17 00:00:00            0        91074  2016-03-17 17:40:17  \n",
      "4  2016-03-31 00:00:00            0        60437  2016-04-06 10:17:21  \n"
     ]
    }
   ],
   "source": [
    "print('Original CamelCase style: ')\n",
    "print(autos.columns)\n",
    "print('\\n')\n",
    "\n",
    "column_names = {\n",
    "    'yearOfRegistration': 'registration_year',\n",
    "'monthOfRegistration': 'registration_month',\n",
    "'notRepairedDamage': 'unrepaired_damage',\n",
    "    'vehicleType': 'vehicle_type',\n",
    "'dateCreated': 'ad_created',\n",
    "'dateCrawled': 'date_crawled',\n",
    "'offerType': 'offer_type',\n",
    "'powerPS': 'power_ps',\n",
    "'fuelType': 'fuel_type',\n",
    "'nrOfPictures': 'pictures_nr',\n",
    "'postalCode': 'postal_code',\n",
    "'lastSeen': 'last_seen'}\n",
    "\n",
    "autos.rename(columns=column_names, inplace=True)\n",
    "print('Updated to snakecase style: ')\n",
    "print(autos.columns)\n",
    "\n",
    "print('\\n')\n",
    "print(autos.head())"
   ]
  },
  {
   "cell_type": "markdown",
   "metadata": {},
   "source": [
    "# Initial exploration and cleaning\n",
    "\n",
    "Now let's do some basic data exploration to determine what other cleaning tasks need to be done. Initially we will look for:\n",
    "\n",
    "- Text columns where all or almost all values are the same. These can often be dropped as they don't have useful information for analysis.\n",
    "- Examples of numeric data stored as text which can be cleaned and converted."
   ]
  },
  {
   "cell_type": "code",
   "execution_count": 3,
   "metadata": {},
   "outputs": [
    {
     "name": "stdout",
     "output_type": "stream",
     "text": [
      "               date_crawled         name  seller offer_type         price  \\\n",
      "count                371528       371528  371528     371528  3.715280e+05   \n",
      "unique               280500       233531       2          2           NaN   \n",
      "top     2016-03-24 14:49:47  Ford_Fiesta  privat    Angebot           NaN   \n",
      "freq                      7          657  371525     371516           NaN   \n",
      "mean                    NaN          NaN     NaN        NaN  1.729514e+04   \n",
      "std                     NaN          NaN     NaN        NaN  3.587954e+06   \n",
      "min                     NaN          NaN     NaN        NaN  0.000000e+00   \n",
      "25%                     NaN          NaN     NaN        NaN  1.150000e+03   \n",
      "50%                     NaN          NaN     NaN        NaN  2.950000e+03   \n",
      "75%                     NaN          NaN     NaN        NaN  7.200000e+03   \n",
      "max                     NaN          NaN     NaN        NaN  2.147484e+09   \n",
      "\n",
      "        abtest vehicle_type  registration_year  gearbox       power_ps  \\\n",
      "count   371528       333659      371528.000000   351319  371528.000000   \n",
      "unique       2            8                NaN        2            NaN   \n",
      "top       test    limousine                NaN  manuell            NaN   \n",
      "freq    192585        95894                NaN   274214            NaN   \n",
      "mean       NaN          NaN        2004.577997      NaN     115.549477   \n",
      "std        NaN          NaN          92.866598      NaN     192.139578   \n",
      "min        NaN          NaN        1000.000000      NaN       0.000000   \n",
      "25%        NaN          NaN        1999.000000      NaN      70.000000   \n",
      "50%        NaN          NaN        2003.000000      NaN     105.000000   \n",
      "75%        NaN          NaN        2008.000000      NaN     150.000000   \n",
      "max        NaN          NaN        9999.000000      NaN   20000.000000   \n",
      "\n",
      "         model      kilometer  registration_month fuel_type       brand  \\\n",
      "count   351044  371528.000000       371528.000000    338142      371528   \n",
      "unique     251            NaN                 NaN         7          40   \n",
      "top       golf            NaN                 NaN    benzin  volkswagen   \n",
      "freq     30070            NaN                 NaN    223857       79640   \n",
      "mean       NaN  125618.688228            5.734445       NaN         NaN   \n",
      "std        NaN   40112.337051            3.712412       NaN         NaN   \n",
      "min        NaN    5000.000000            0.000000       NaN         NaN   \n",
      "25%        NaN  125000.000000            3.000000       NaN         NaN   \n",
      "50%        NaN  150000.000000            6.000000       NaN         NaN   \n",
      "75%        NaN  150000.000000            9.000000       NaN         NaN   \n",
      "max        NaN  150000.000000           12.000000       NaN         NaN   \n",
      "\n",
      "       unrepaired_damage           ad_created  pictures_nr   postal_code  \\\n",
      "count             299468               371528     371528.0  371528.00000   \n",
      "unique                 2                  114          NaN           NaN   \n",
      "top                 nein  2016-04-03 00:00:00          NaN           NaN   \n",
      "freq              263182                14450          NaN           NaN   \n",
      "mean                 NaN                  NaN          0.0   50820.66764   \n",
      "std                  NaN                  NaN          0.0   25799.08247   \n",
      "min                  NaN                  NaN          0.0    1067.00000   \n",
      "25%                  NaN                  NaN          0.0   30459.00000   \n",
      "50%                  NaN                  NaN          0.0   49610.00000   \n",
      "75%                  NaN                  NaN          0.0   71546.00000   \n",
      "max                  NaN                  NaN          0.0   99998.00000   \n",
      "\n",
      "                  last_seen  \n",
      "count                371528  \n",
      "unique               182806  \n",
      "top     2016-04-06 13:45:54  \n",
      "freq                     17  \n",
      "mean                    NaN  \n",
      "std                     NaN  \n",
      "min                     NaN  \n",
      "25%                     NaN  \n",
      "50%                     NaN  \n",
      "75%                     NaN  \n",
      "max                     NaN  \n"
     ]
    }
   ],
   "source": [
    "print(autos.describe(include='all'))"
   ]
  },
  {
   "cell_type": "markdown",
   "metadata": {},
   "source": [
    "\n",
    "Our initial observations:\n",
    "\n",
    "- There are a number of text columns where all (or nearly all) of the values are the same:\n",
    "  - seller\n",
    "  - offer_type\n",
    "\n",
    "- The *pictures_nr* column looks odd, we'll need to investigate this further."
   ]
  },
  {
   "cell_type": "code",
   "execution_count": 4,
   "metadata": {},
   "outputs": [
    {
     "data": {
      "text/plain": [
       "0    371528\n",
       "Name: pictures_nr, dtype: int64"
      ]
     },
     "execution_count": 4,
     "metadata": {},
     "output_type": "execute_result"
    }
   ],
   "source": [
    "autos['pictures_nr'].value_counts()"
   ]
  },
  {
   "cell_type": "markdown",
   "metadata": {},
   "source": [
    "It looks like the *pictures_nr* column has 0 for every column. We'll drop this column, plus the other two we noted as mostly one value"
   ]
  },
  {
   "cell_type": "code",
   "execution_count": 5,
   "metadata": {},
   "outputs": [
    {
     "name": "stdout",
     "output_type": "stream",
     "text": [
      "<class 'pandas.core.frame.DataFrame'>\n",
      "RangeIndex: 371528 entries, 0 to 371527\n",
      "Data columns (total 17 columns):\n",
      "date_crawled          371528 non-null object\n",
      "name                  371528 non-null object\n",
      "price                 371528 non-null int64\n",
      "abtest                371528 non-null object\n",
      "vehicle_type          333659 non-null object\n",
      "registration_year     371528 non-null int64\n",
      "gearbox               351319 non-null object\n",
      "power_ps              371528 non-null int64\n",
      "model                 351044 non-null object\n",
      "kilometer             371528 non-null int64\n",
      "registration_month    371528 non-null int64\n",
      "fuel_type             338142 non-null object\n",
      "brand                 371528 non-null object\n",
      "unrepaired_damage     299468 non-null object\n",
      "ad_created            371528 non-null object\n",
      "postal_code           371528 non-null int64\n",
      "last_seen             371528 non-null object\n",
      "dtypes: int64(6), object(11)\n",
      "memory usage: 48.2+ MB\n",
      "None\n"
     ]
    }
   ],
   "source": [
    "autos.drop(['seller', 'offer_type', 'pictures_nr'], axis=1, inplace=True)\n",
    "\n",
    "print(autos.info())"
   ]
  },
  {
   "cell_type": "markdown",
   "metadata": {},
   "source": [
    "# Exploring the kilometer and price columns"
   ]
  },
  {
   "cell_type": "code",
   "execution_count": 6,
   "metadata": {},
   "outputs": [
    {
     "name": "stdout",
     "output_type": "stream",
     "text": [
      "Number of unique values (13,)\n",
      "\n",
      "\n",
      "View min/max/median/mean etc count    371528.000000\n",
      "mean     125618.688228\n",
      "std       40112.337051\n",
      "min        5000.000000\n",
      "25%      125000.000000\n",
      "50%      150000.000000\n",
      "75%      150000.000000\n",
      "max      150000.000000\n",
      "Name: kilometer, dtype: float64\n",
      "\n",
      "\n",
      "View the highest and lowest values with their counts: \n",
      "5000        7069\n",
      "10000       1949\n",
      "20000       5676\n",
      "30000       6041\n",
      "40000       6376\n",
      "50000       7615\n",
      "60000       8669\n",
      "70000       9773\n",
      "80000      11053\n",
      "90000      12523\n",
      "100000     15920\n",
      "125000     38067\n",
      "150000    240797\n",
      "Name: kilometer, dtype: int64\n",
      "\n",
      "\n",
      "Number of unique values (5597,)\n",
      "\n",
      "\n",
      "View min/max/median/mean etc count    3.715280e+05\n",
      "mean     1.729514e+04\n",
      "std      3.587954e+06\n",
      "min      0.000000e+00\n",
      "25%      1.150000e+03\n",
      "50%      2.950000e+03\n",
      "75%      7.200000e+03\n",
      "max      2.147484e+09\n",
      "Name: price, dtype: float64\n",
      "\n",
      "\n",
      "View the highest and lowest values with their counts: \n",
      "0     10778\n",
      "1      1189\n",
      "2        12\n",
      "3         8\n",
      "4         1\n",
      "5        26\n",
      "7         3\n",
      "8         9\n",
      "9         8\n",
      "10       84\n",
      "11        5\n",
      "12        8\n",
      "13        7\n",
      "14        5\n",
      "15       27\n",
      "16        2\n",
      "17        5\n",
      "18        3\n",
      "19        3\n",
      "20       51\n",
      "Name: price, dtype: int64\n"
     ]
    }
   ],
   "source": [
    "def explor_data(series):\n",
    "    print('Number of unique values', series.unique().shape)\n",
    "    print('\\n')\n",
    "    print('View min/max/median/mean etc', series.describe())\n",
    "    print('\\n')\n",
    "    print('View the highest and lowest values with their counts: ')\n",
    "    print(series.value_counts().sort_index().head(20))\n",
    "    \n",
    "explor_data(autos['kilometer'])\n",
    "print('\\n')\n",
    "explor_data(autos['price'])"
   ]
  },
  {
   "cell_type": "markdown",
   "metadata": {},
   "source": [
    "\n",
    "We can see that the values in the *kilometer* field are rounded, which might indicate that sellers had to choose from pre-set options for this field. Additionally, there are more high mileage than low mileage vehicles.\n",
    "\n",
    "Again, the prices in this column seem rounded, however given there are 5597 unique values in the column, that may just be people's tendency to round prices on the site.\n",
    "\n",
    "There are 10778 cars listed with $0 price - given that this is only 3% of the of the cars, we might consider removing these rows. The maximum price is more than 20 hundred million dollars, which seems a lot, let's look at the highest prices further."
   ]
  },
  {
   "cell_type": "code",
   "execution_count": 7,
   "metadata": {},
   "outputs": [
    {
     "name": "stdout",
     "output_type": "stream",
     "text": [
      "2147483647     1\n",
      "99999999      15\n",
      "99000000       1\n",
      "74185296       1\n",
      "32545461       1\n",
      "27322222       1\n",
      "14000500       1\n",
      "12345678       9\n",
      "11111111      10\n",
      "10010011       1\n",
      "10000000       8\n",
      "9999999        3\n",
      "3895000        1\n",
      "3890000        1\n",
      "2995000        1\n",
      "2795000        1\n",
      "1600000        2\n",
      "1300000        1\n",
      "1250000        2\n",
      "1234566        1\n",
      "Name: price, dtype: int64\n"
     ]
    }
   ],
   "source": [
    "print(autos['price'].value_counts().sort_index(ascending=False).head(20))"
   ]
  },
  {
   "cell_type": "markdown",
   "metadata": {},
   "source": [
    "\n",
    "There are a number of listings with prices below \\$20, including about 11000 at \\$0. There are also a small number of listings with very high values, including 51 at around or over $10 million.\n",
    "\n",
    "Given that eBay is an auction site, there could legitimately be items where the opening bid is \\$1. We will keep the \\$1 items, but remove anything above \\$3895000, since it seems that prices increase steadily to that number and then jump up to less realistic numbers."
   ]
  },
  {
   "cell_type": "code",
   "execution_count": 8,
   "metadata": {},
   "outputs": [
    {
     "data": {
      "text/plain": [
       "count    3.606980e+05\n",
       "mean     6.068401e+03\n",
       "std      1.818741e+04\n",
       "min      1.000000e+00\n",
       "25%      1.250000e+03\n",
       "50%      3.000000e+03\n",
       "75%      7.490000e+03\n",
       "max      3.895000e+06\n",
       "Name: price, dtype: float64"
      ]
     },
     "execution_count": 8,
     "metadata": {},
     "output_type": "execute_result"
    }
   ],
   "source": [
    "autos = autos[autos['price'].between(1,3895000)]\n",
    "autos['price'].describe()"
   ]
  },
  {
   "cell_type": "markdown",
   "metadata": {},
   "source": [
    "# Exploring the date columns"
   ]
  },
  {
   "cell_type": "markdown",
   "metadata": {},
   "source": [
    "Let's now move on to the date columns and understand the date range the data covers.\n",
    "\n",
    "There are 5 columns that should represent date values. Some of these columns were created by the crawler, some came from the website itself. We can differentiate by referring to the data dictionary:\n",
    "\n",
    "- `date_crawled`: added by the crawler\n",
    "- `last_seen`: added by the crawler\n",
    "- `ad_created`: from the website\n",
    "- `registration_month`: from the website\n",
    "- `registration_year`: from the website\n",
    "\n",
    "Right now, the date_crawled, last_seen, and ad_created columns are all identified as string values by pandas. Because these three columns are represented as strings, we need to convert the data into a numerical representation so we can understand it quantitatively. The other two columns are represented as numeric values, so we can use methods like Series.describe() to understand the distribution without any extra data processing.\n",
    "\n",
    "Let's first understand how the values in the three string columns are formatted. These columns all represent full timestamp values, like so:\n"
   ]
  },
  {
   "cell_type": "code",
   "execution_count": 9,
   "metadata": {},
   "outputs": [
    {
     "data": {
      "text/html": [
       "<div>\n",
       "<style scoped>\n",
       "    .dataframe tbody tr th:only-of-type {\n",
       "        vertical-align: middle;\n",
       "    }\n",
       "\n",
       "    .dataframe tbody tr th {\n",
       "        vertical-align: top;\n",
       "    }\n",
       "\n",
       "    .dataframe thead th {\n",
       "        text-align: right;\n",
       "    }\n",
       "</style>\n",
       "<table border=\"1\" class=\"dataframe\">\n",
       "  <thead>\n",
       "    <tr style=\"text-align: right;\">\n",
       "      <th></th>\n",
       "      <th>date_crawled</th>\n",
       "      <th>ad_created</th>\n",
       "      <th>last_seen</th>\n",
       "    </tr>\n",
       "  </thead>\n",
       "  <tbody>\n",
       "    <tr>\n",
       "      <th>0</th>\n",
       "      <td>2016-03-24 11:52:17</td>\n",
       "      <td>2016-03-24 00:00:00</td>\n",
       "      <td>2016-04-07 03:16:57</td>\n",
       "    </tr>\n",
       "    <tr>\n",
       "      <th>1</th>\n",
       "      <td>2016-03-24 10:58:45</td>\n",
       "      <td>2016-03-24 00:00:00</td>\n",
       "      <td>2016-04-07 01:46:50</td>\n",
       "    </tr>\n",
       "    <tr>\n",
       "      <th>2</th>\n",
       "      <td>2016-03-14 12:52:21</td>\n",
       "      <td>2016-03-14 00:00:00</td>\n",
       "      <td>2016-04-05 12:47:46</td>\n",
       "    </tr>\n",
       "    <tr>\n",
       "      <th>3</th>\n",
       "      <td>2016-03-17 16:54:04</td>\n",
       "      <td>2016-03-17 00:00:00</td>\n",
       "      <td>2016-03-17 17:40:17</td>\n",
       "    </tr>\n",
       "    <tr>\n",
       "      <th>4</th>\n",
       "      <td>2016-03-31 17:25:20</td>\n",
       "      <td>2016-03-31 00:00:00</td>\n",
       "      <td>2016-04-06 10:17:21</td>\n",
       "    </tr>\n",
       "  </tbody>\n",
       "</table>\n",
       "</div>"
      ],
      "text/plain": [
       "          date_crawled           ad_created            last_seen\n",
       "0  2016-03-24 11:52:17  2016-03-24 00:00:00  2016-04-07 03:16:57\n",
       "1  2016-03-24 10:58:45  2016-03-24 00:00:00  2016-04-07 01:46:50\n",
       "2  2016-03-14 12:52:21  2016-03-14 00:00:00  2016-04-05 12:47:46\n",
       "3  2016-03-17 16:54:04  2016-03-17 00:00:00  2016-03-17 17:40:17\n",
       "4  2016-03-31 17:25:20  2016-03-31 00:00:00  2016-04-06 10:17:21"
      ]
     },
     "execution_count": 9,
     "metadata": {},
     "output_type": "execute_result"
    }
   ],
   "source": [
    "autos[['date_crawled','ad_created','last_seen']][0:5]"
   ]
  },
  {
   "cell_type": "code",
   "execution_count": 10,
   "metadata": {},
   "outputs": [
    {
     "data": {
      "text/html": [
       "<div>\n",
       "<style scoped>\n",
       "    .dataframe tbody tr th:only-of-type {\n",
       "        vertical-align: middle;\n",
       "    }\n",
       "\n",
       "    .dataframe tbody tr th {\n",
       "        vertical-align: top;\n",
       "    }\n",
       "\n",
       "    .dataframe thead th {\n",
       "        text-align: right;\n",
       "    }\n",
       "</style>\n",
       "<table border=\"1\" class=\"dataframe\">\n",
       "  <thead>\n",
       "    <tr style=\"text-align: right;\">\n",
       "      <th></th>\n",
       "      <th>date_crawled_date</th>\n",
       "      <th>ad_created_date</th>\n",
       "      <th>last_seen_date</th>\n",
       "    </tr>\n",
       "  </thead>\n",
       "  <tbody>\n",
       "    <tr>\n",
       "      <th>0</th>\n",
       "      <td>2016-03-24</td>\n",
       "      <td>2016-03-24</td>\n",
       "      <td>2016-04-07</td>\n",
       "    </tr>\n",
       "    <tr>\n",
       "      <th>1</th>\n",
       "      <td>2016-03-24</td>\n",
       "      <td>2016-03-24</td>\n",
       "      <td>2016-04-07</td>\n",
       "    </tr>\n",
       "    <tr>\n",
       "      <th>2</th>\n",
       "      <td>2016-03-14</td>\n",
       "      <td>2016-03-14</td>\n",
       "      <td>2016-04-05</td>\n",
       "    </tr>\n",
       "    <tr>\n",
       "      <th>3</th>\n",
       "      <td>2016-03-17</td>\n",
       "      <td>2016-03-17</td>\n",
       "      <td>2016-03-17</td>\n",
       "    </tr>\n",
       "    <tr>\n",
       "      <th>4</th>\n",
       "      <td>2016-03-31</td>\n",
       "      <td>2016-03-31</td>\n",
       "      <td>2016-04-06</td>\n",
       "    </tr>\n",
       "  </tbody>\n",
       "</table>\n",
       "</div>"
      ],
      "text/plain": [
       "  date_crawled_date ad_created_date last_seen_date\n",
       "0        2016-03-24      2016-03-24     2016-04-07\n",
       "1        2016-03-24      2016-03-24     2016-04-07\n",
       "2        2016-03-14      2016-03-14     2016-04-05\n",
       "3        2016-03-17      2016-03-17     2016-03-17\n",
       "4        2016-03-31      2016-03-31     2016-04-06"
      ]
     },
     "execution_count": 10,
     "metadata": {},
     "output_type": "execute_result"
    }
   ],
   "source": [
    "import datetime as dt\n",
    "\n",
    "column_time = ['date_crawled','ad_created','last_seen']\n",
    "\n",
    "for col in column_time:\n",
    "    autos[col] = pd.to_datetime(autos[col])\n",
    "    autos[col + '_date'] = autos[col].dt.date\n",
    "    \n",
    "autos[['date_crawled_date','ad_created_date','last_seen_date']][0:5]\n",
    "# autos[['date_crawled','ad_created','last_seen']][0:5]"
   ]
  },
  {
   "cell_type": "code",
   "execution_count": 15,
   "metadata": {},
   "outputs": [
    {
     "name": "stdout",
     "output_type": "stream",
     "text": [
      "date_crawled_date\n",
      "2016-03-05    0.025545\n",
      "2016-03-06    0.014480\n",
      "2016-03-07    0.035653\n",
      "2016-03-08    0.033466\n",
      "2016-03-09    0.034112\n",
      "2016-03-10    0.032648\n",
      "2016-03-11    0.032775\n",
      "2016-03-12    0.036244\n",
      "2016-03-13    0.015781\n",
      "2016-03-14    0.036327\n",
      "2016-03-15    0.033424\n",
      "2016-03-16    0.030200\n",
      "2016-03-17    0.031655\n",
      "2016-03-18    0.013119\n",
      "2016-03-19    0.035268\n",
      "2016-03-20    0.036399\n",
      "2016-03-21    0.035695\n",
      "2016-03-22    0.032493\n",
      "2016-03-23    0.032002\n",
      "2016-03-24    0.029914\n",
      "2016-03-25    0.032798\n",
      "2016-03-26    0.031969\n",
      "2016-03-27    0.030230\n",
      "2016-03-28    0.035060\n",
      "2016-03-29    0.034123\n",
      "2016-03-30    0.033529\n",
      "2016-03-31    0.031874\n",
      "2016-04-01    0.034150\n",
      "2016-04-02    0.035096\n",
      "2016-04-03    0.038811\n",
      "2016-04-04    0.037630\n",
      "2016-04-05    0.012786\n",
      "2016-04-06    0.003127\n",
      "2016-04-07    0.001619\n",
      "Name: date_crawled_date, dtype: float64\n",
      "\n",
      "\n",
      "ad_created_date\n",
      "2014-03-10    0.000003\n",
      "2015-03-20    0.000003\n",
      "2015-06-11    0.000003\n",
      "2015-06-18    0.000003\n",
      "2015-08-07    0.000003\n",
      "2015-08-10    0.000003\n",
      "2015-09-04    0.000006\n",
      "2015-09-09    0.000003\n",
      "2015-10-14    0.000003\n",
      "2015-11-02    0.000003\n",
      "2015-11-08    0.000003\n",
      "2015-11-10    0.000003\n",
      "2015-11-12    0.000003\n",
      "2015-11-13    0.000003\n",
      "2015-11-17    0.000003\n",
      "2015-11-23    0.000006\n",
      "2015-11-24    0.000006\n",
      "2015-12-05    0.000008\n",
      "2015-12-06    0.000003\n",
      "2015-12-17    0.000003\n",
      "2015-12-27    0.000003\n",
      "2015-12-28    0.000003\n",
      "2015-12-30    0.000008\n",
      "2016-01-02    0.000011\n",
      "2016-01-03    0.000003\n",
      "2016-01-06    0.000003\n",
      "2016-01-07    0.000008\n",
      "2016-01-08    0.000003\n",
      "2016-01-10    0.000011\n",
      "2016-01-13    0.000008\n",
      "                ...   \n",
      "2016-03-09    0.034159\n",
      "2016-03-10    0.032523\n",
      "2016-03-11    0.032809\n",
      "2016-03-12    0.036080\n",
      "2016-03-13    0.017053\n",
      "2016-03-14    0.035262\n",
      "2016-03-15    0.033349\n",
      "2016-03-16    0.030424\n",
      "2016-03-17    0.031253\n",
      "2016-03-18    0.014020\n",
      "2016-03-19    0.034300\n",
      "2016-03-20    0.036488\n",
      "2016-03-21    0.035789\n",
      "2016-03-22    0.032196\n",
      "2016-03-23    0.031963\n",
      "2016-03-24    0.029953\n",
      "2016-03-25    0.032859\n",
      "2016-03-26    0.032088\n",
      "2016-03-27    0.030003\n",
      "2016-03-28    0.035132\n",
      "2016-03-29    0.034156\n",
      "2016-03-30    0.033394\n",
      "2016-03-31    0.031955\n",
      "2016-04-01    0.033998\n",
      "2016-04-02    0.034974\n",
      "2016-04-03    0.038999\n",
      "2016-04-04    0.037738\n",
      "2016-04-05    0.011619\n",
      "2016-04-06    0.003119\n",
      "2016-04-07    0.001555\n",
      "Name: ad_created_date, Length: 114, dtype: float64\n",
      "\n",
      "\n",
      "last_seen_date\n",
      "2016-03-05    0.001264\n",
      "2016-03-06    0.004098\n",
      "2016-03-07    0.005201\n",
      "2016-03-08    0.007940\n",
      "2016-03-09    0.009823\n",
      "2016-03-10    0.011458\n",
      "2016-03-11    0.012953\n",
      "2016-03-12    0.023241\n",
      "2016-03-13    0.008409\n",
      "2016-03-14    0.012174\n",
      "2016-03-15    0.016327\n",
      "2016-03-16    0.016415\n",
      "2016-03-17    0.028703\n",
      "2016-03-18    0.006892\n",
      "2016-03-19    0.016332\n",
      "2016-03-20    0.019889\n",
      "2016-03-21    0.020031\n",
      "2016-03-22    0.020510\n",
      "2016-03-23    0.018018\n",
      "2016-03-24    0.019163\n",
      "2016-03-25    0.018997\n",
      "2016-03-26    0.015955\n",
      "2016-03-27    0.016720\n",
      "2016-03-28    0.022190\n",
      "2016-03-29    0.023285\n",
      "2016-03-30    0.023721\n",
      "2016-03-31    0.024239\n",
      "2016-04-01    0.023898\n",
      "2016-04-02    0.024971\n",
      "2016-04-03    0.025320\n",
      "2016-04-04    0.025531\n",
      "2016-04-05    0.126968\n",
      "2016-04-06    0.218942\n",
      "2016-04-07    0.130422\n",
      "Name: last_seen_date, dtype: float64\n",
      "\n",
      "\n"
     ]
    }
   ],
   "source": [
    "column_date = ['date_crawled_date','ad_created_date','last_seen_date']\n",
    "\n",
    "for col in column_date:\n",
    "    print(col)\n",
    "    print(autos[col].value_counts(normalize=True, dropna=False).sort_index())\n",
    "    print('\\n')"
   ]
  },
  {
   "cell_type": "markdown",
   "metadata": {},
   "source": [
    "Looks like the site was crawled daily over roughly a one month period in March and April 2016. The distribution of listings crawled on each day is roughly uniform.\n",
    "\n",
    "The crawler recorded the date it last saw any listing, which allows us to determine on what day a listing was removed, presumably because the car was sold.\n",
    "\n",
    "The last three days contain a disproportionate amount of 'last seen' values. Given that these are 6-10x the values from the previous days, it's unlikely that there was a massive spike in sales, and more likely that these values are to do with the crawling period ending and don't indicate car sales.\n",
    "\n",
    "There is a large variety of ad created dates. Most fall within 1-2 months of the listing date, but a few are quite old, with the oldest more than 1 year."
   ]
  },
  {
   "cell_type": "code",
   "execution_count": 17,
   "metadata": {},
   "outputs": [
    {
     "data": {
      "text/plain": [
       "count    360698.000000\n",
       "mean       2004.451877\n",
       "std          82.110038\n",
       "min        1000.000000\n",
       "25%        1999.000000\n",
       "50%        2004.000000\n",
       "75%        2008.000000\n",
       "max        9999.000000\n",
       "Name: registration_year, dtype: float64"
      ]
     },
     "execution_count": 17,
     "metadata": {},
     "output_type": "execute_result"
    }
   ],
   "source": [
    "autos['registration_year'].describe()"
   ]
  },
  {
   "cell_type": "markdown",
   "metadata": {},
   "source": [
    "The year that the car was first registered will likely indicate the age of the car. Looking at this column, we note some odd values. The minimum value is 1000, long before cars were invented and the maximum is 9999, many years into the future."
   ]
  },
  {
   "cell_type": "markdown",
   "metadata": {},
   "source": [
    "# Dealing with incorrect registration year data"
   ]
  },
  {
   "cell_type": "markdown",
   "metadata": {},
   "source": [
    "Because a car can't be first registered after the listing was seen, any vehicle with a registration year above 2016 is definitely inaccurate. Determining the earliest valid year is more difficult. Realistically, it could be somewhere in the first few decades of the 1900s.\n",
    "\n",
    "Let's count the number of listings with cars that fall outside the 1900 - 2016 interval and see if it's safe to remove those rows entirely, or if we need more custom logic."
   ]
  },
  {
   "cell_type": "code",
   "execution_count": 18,
   "metadata": {},
   "outputs": [
    {
     "data": {
      "text/plain": [
       "0.03875264071328369"
      ]
     },
     "execution_count": 18,
     "metadata": {},
     "output_type": "execute_result"
    }
   ],
   "source": [
    "(~autos['registration_year'].between(1900, 2016)).sum()/autos.shape[0]"
   ]
  },
  {
   "cell_type": "markdown",
   "metadata": {},
   "source": [
    "Given that this is less than 4% of our data, we will remove these rows."
   ]
  },
  {
   "cell_type": "code",
   "execution_count": 21,
   "metadata": {},
   "outputs": [
    {
     "data": {
      "text/plain": [
       "2016    0.026612\n",
       "2015    0.008430\n",
       "2014    0.013755\n",
       "2013    0.017657\n",
       "2012    0.026993\n",
       "2011    0.034599\n",
       "2010    0.035392\n",
       "2009    0.044702\n",
       "2008    0.046248\n",
       "2007    0.050490\n",
       "Name: registration_year, dtype: float64"
      ]
     },
     "execution_count": 21,
     "metadata": {},
     "output_type": "execute_result"
    }
   ],
   "source": [
    "autos = autos[autos['registration_year'].between(1900, 2016)]\n",
    "autos['registration_year'].value_counts(normalize=True).sort_index(ascending=False).head(10)"
   ]
  },
  {
   "cell_type": "markdown",
   "metadata": {},
   "source": [
    "# Exploring price by brand"
   ]
  },
  {
   "cell_type": "code",
   "execution_count": 35,
   "metadata": {},
   "outputs": [
    {
     "name": "stdout",
     "output_type": "stream",
     "text": [
      "volkswagen        0.211675\n",
      "bmw               0.109870\n",
      "opel              0.106397\n",
      "mercedes_benz     0.096833\n",
      "audi              0.089536\n",
      "ford              0.068912\n",
      "renault           0.047508\n",
      "peugeot           0.030148\n",
      "fiat              0.025686\n",
      "seat              0.018658\n",
      "skoda             0.015684\n",
      "mazda             0.015381\n",
      "smart             0.014329\n",
      "citroen           0.013948\n",
      "nissan            0.013596\n",
      "toyota            0.012930\n",
      "hyundai           0.009971\n",
      "sonstige_autos    0.009547\n",
      "mini              0.009382\n",
      "volvo             0.009146\n",
      "mitsubishi        0.008234\n",
      "honda             0.007531\n",
      "kia               0.006913\n",
      "suzuki            0.006365\n",
      "alfa_romeo        0.006308\n",
      "porsche           0.006259\n",
      "chevrolet         0.005024\n",
      "chrysler          0.003862\n",
      "dacia             0.002495\n",
      "jeep              0.002195\n",
      "land_rover        0.002166\n",
      "daihatsu          0.002160\n",
      "subaru            0.002117\n",
      "jaguar            0.001736\n",
      "saab              0.001465\n",
      "daewoo            0.001457\n",
      "trabant           0.001407\n",
      "lancia            0.001301\n",
      "rover             0.001272\n",
      "lada              0.000597\n",
      "Name: brand, dtype: float64\n"
     ]
    }
   ],
   "source": [
    "brand_counts = autos['brand'].value_counts(normalize=True)\n",
    "print(brand_counts)"
   ]
  },
  {
   "cell_type": "markdown",
   "metadata": {},
   "source": [
    "German manufacturers represent four out of the top five brands, almost 50% of the overall listings. Volkswagen is by far the most popular brand, with approximately double the cars for sale of the next two brands combined."
   ]
  },
  {
   "cell_type": "code",
   "execution_count": 44,
   "metadata": {},
   "outputs": [
    {
     "name": "stdout",
     "output_type": "stream",
     "text": [
      "volkswagen 5452.33870176586\n",
      "bmw 8573.86244552948\n",
      "opel 3028.965952832746\n",
      "mercedes_benz 8609.055965926014\n",
      "audi 9166.50879396985\n",
      "ford 3779.8030385468546\n"
     ]
    }
   ],
   "source": [
    "brand_price = {}\n",
    "common_brands = brand_counts[brand_counts > 0.05].index\n",
    "\n",
    "for brand in common_brands:\n",
    "    brand_price[brand] = autos.loc[autos['brand'] == brand, 'price'].mean()\n",
    "    print(brand, brand_price[brand])\n",
    "\n"
   ]
  },
  {
   "cell_type": "markdown",
   "metadata": {},
   "source": [
    "\n",
    "Of the top 6 brands, there is a distinct price gap:\n",
    "\n",
    "Audi, BMW and Mercedes Benz are more expensive\n",
    "Ford and Opel are less expensive\n",
    "Volkswagen is in between - this may explain its popularity, it may be a 'best of 'both worlds' option.\n"
   ]
  },
  {
   "cell_type": "code",
   "execution_count": 47,
   "metadata": {},
   "outputs": [
    {
     "data": {
      "text/html": [
       "<div>\n",
       "<style scoped>\n",
       "    .dataframe tbody tr th:only-of-type {\n",
       "        vertical-align: middle;\n",
       "    }\n",
       "\n",
       "    .dataframe tbody tr th {\n",
       "        vertical-align: top;\n",
       "    }\n",
       "\n",
       "    .dataframe thead th {\n",
       "        text-align: right;\n",
       "    }\n",
       "</style>\n",
       "<table border=\"1\" class=\"dataframe\">\n",
       "  <thead>\n",
       "    <tr style=\"text-align: right;\">\n",
       "      <th></th>\n",
       "      <th>mean_price</th>\n",
       "    </tr>\n",
       "  </thead>\n",
       "  <tbody>\n",
       "    <tr>\n",
       "      <th>audi</th>\n",
       "      <td>9166.508794</td>\n",
       "    </tr>\n",
       "    <tr>\n",
       "      <th>mercedes_benz</th>\n",
       "      <td>8609.055966</td>\n",
       "    </tr>\n",
       "    <tr>\n",
       "      <th>bmw</th>\n",
       "      <td>8573.862446</td>\n",
       "    </tr>\n",
       "    <tr>\n",
       "      <th>volkswagen</th>\n",
       "      <td>5452.338702</td>\n",
       "    </tr>\n",
       "    <tr>\n",
       "      <th>ford</th>\n",
       "      <td>3779.803039</td>\n",
       "    </tr>\n",
       "    <tr>\n",
       "      <th>opel</th>\n",
       "      <td>3028.965953</td>\n",
       "    </tr>\n",
       "  </tbody>\n",
       "</table>\n",
       "</div>"
      ],
      "text/plain": [
       "                mean_price\n",
       "audi           9166.508794\n",
       "mercedes_benz  8609.055966\n",
       "bmw            8573.862446\n",
       "volkswagen     5452.338702\n",
       "ford           3779.803039\n",
       "opel           3028.965953"
      ]
     },
     "execution_count": 47,
     "metadata": {},
     "output_type": "execute_result"
    }
   ],
   "source": [
    "brand_mean_prices = pd.Series(brand_price).sort_values(ascending=False)\n",
    "# print(brand_mean_prices.sort_values(ascending=False))\n",
    "df_brand_mean_prices = pd.DataFrame(brand_mean_prices, columns=['mean_price'])\n",
    "df_brand_mean_prices"
   ]
  },
  {
   "cell_type": "markdown",
   "metadata": {},
   "source": [
    "# Exploring Mileage"
   ]
  },
  {
   "cell_type": "code",
   "execution_count": 50,
   "metadata": {},
   "outputs": [
    {
     "name": "stdout",
     "output_type": "stream",
     "text": [
      "volkswagen 128387.22204054937\n",
      "bmw 132791.77823279257\n",
      "opel 128721.06261859582\n",
      "mercedes_benz 130566.80764877584\n",
      "audi 129440.7937121505\n",
      "ford 123663.41606328213\n"
     ]
    },
    {
     "data": {
      "text/html": [
       "<div>\n",
       "<style scoped>\n",
       "    .dataframe tbody tr th:only-of-type {\n",
       "        vertical-align: middle;\n",
       "    }\n",
       "\n",
       "    .dataframe tbody tr th {\n",
       "        vertical-align: top;\n",
       "    }\n",
       "\n",
       "    .dataframe thead th {\n",
       "        text-align: right;\n",
       "    }\n",
       "</style>\n",
       "<table border=\"1\" class=\"dataframe\">\n",
       "  <thead>\n",
       "    <tr style=\"text-align: right;\">\n",
       "      <th></th>\n",
       "      <th>mean_mileage</th>\n",
       "    </tr>\n",
       "  </thead>\n",
       "  <tbody>\n",
       "    <tr>\n",
       "      <th>bmw</th>\n",
       "      <td>132791.778233</td>\n",
       "    </tr>\n",
       "    <tr>\n",
       "      <th>mercedes_benz</th>\n",
       "      <td>130566.807649</td>\n",
       "    </tr>\n",
       "    <tr>\n",
       "      <th>audi</th>\n",
       "      <td>129440.793712</td>\n",
       "    </tr>\n",
       "    <tr>\n",
       "      <th>opel</th>\n",
       "      <td>128721.062619</td>\n",
       "    </tr>\n",
       "    <tr>\n",
       "      <th>volkswagen</th>\n",
       "      <td>128387.222041</td>\n",
       "    </tr>\n",
       "    <tr>\n",
       "      <th>ford</th>\n",
       "      <td>123663.416063</td>\n",
       "    </tr>\n",
       "  </tbody>\n",
       "</table>\n",
       "</div>"
      ],
      "text/plain": [
       "                mean_mileage\n",
       "bmw            132791.778233\n",
       "mercedes_benz  130566.807649\n",
       "audi           129440.793712\n",
       "opel           128721.062619\n",
       "volkswagen     128387.222041\n",
       "ford           123663.416063"
      ]
     },
     "execution_count": 50,
     "metadata": {},
     "output_type": "execute_result"
    }
   ],
   "source": [
    "mean_mileage = {}\n",
    "for brand in common_brands:\n",
    "    mean_mileage[brand] = autos.loc[autos['brand'] == brand, 'kilometer'].mean()\n",
    "    print(brand, mean_mileage[brand])\n",
    "    \n",
    "brand_mean_mileage = pd.Series(mean_mileage).sort_values(ascending=False)\n",
    "df_brand_mean_mileage = pd.DataFrame(brand_mean_mileage, columns=['mean_mileage'])\n",
    "df_brand_mean_mileage"
   ]
  },
  {
   "cell_type": "code",
   "execution_count": 51,
   "metadata": {},
   "outputs": [
    {
     "data": {
      "text/html": [
       "<div>\n",
       "<style scoped>\n",
       "    .dataframe tbody tr th:only-of-type {\n",
       "        vertical-align: middle;\n",
       "    }\n",
       "\n",
       "    .dataframe tbody tr th {\n",
       "        vertical-align: top;\n",
       "    }\n",
       "\n",
       "    .dataframe thead th {\n",
       "        text-align: right;\n",
       "    }\n",
       "</style>\n",
       "<table border=\"1\" class=\"dataframe\">\n",
       "  <thead>\n",
       "    <tr style=\"text-align: right;\">\n",
       "      <th></th>\n",
       "      <th>mean_price</th>\n",
       "      <th>mean_mileage</th>\n",
       "    </tr>\n",
       "  </thead>\n",
       "  <tbody>\n",
       "    <tr>\n",
       "      <th>audi</th>\n",
       "      <td>9166.508794</td>\n",
       "      <td>129440.793712</td>\n",
       "    </tr>\n",
       "    <tr>\n",
       "      <th>bmw</th>\n",
       "      <td>8573.862446</td>\n",
       "      <td>132791.778233</td>\n",
       "    </tr>\n",
       "    <tr>\n",
       "      <th>ford</th>\n",
       "      <td>3779.803039</td>\n",
       "      <td>123663.416063</td>\n",
       "    </tr>\n",
       "    <tr>\n",
       "      <th>mercedes_benz</th>\n",
       "      <td>8609.055966</td>\n",
       "      <td>130566.807649</td>\n",
       "    </tr>\n",
       "    <tr>\n",
       "      <th>opel</th>\n",
       "      <td>3028.965953</td>\n",
       "      <td>128721.062619</td>\n",
       "    </tr>\n",
       "    <tr>\n",
       "      <th>volkswagen</th>\n",
       "      <td>5452.338702</td>\n",
       "      <td>128387.222041</td>\n",
       "    </tr>\n",
       "  </tbody>\n",
       "</table>\n",
       "</div>"
      ],
      "text/plain": [
       "                mean_price   mean_mileage\n",
       "audi           9166.508794  129440.793712\n",
       "bmw            8573.862446  132791.778233\n",
       "ford           3779.803039  123663.416063\n",
       "mercedes_benz  8609.055966  130566.807649\n",
       "opel           3028.965953  128721.062619\n",
       "volkswagen     5452.338702  128387.222041"
      ]
     },
     "execution_count": 51,
     "metadata": {},
     "output_type": "execute_result"
    }
   ],
   "source": [
    "brand_info = pd.concat([df_brand_mean_prices, df_brand_mean_mileage], axis=1)\n",
    "brand_info"
   ]
  },
  {
   "cell_type": "markdown",
   "metadata": {},
   "source": [
    "The range of car mileages does not vary as much as the prices do by brand, instead all falling within 10% for the top brands. There is a slight trend to the more expensive vehicles having higher mileage, with the less expensive vehicles having lower mileage."
   ]
  }
 ],
 "metadata": {
  "kernelspec": {
   "display_name": "Python 3",
   "language": "python",
   "name": "python3"
  },
  "language_info": {
   "codemirror_mode": {
    "name": "ipython",
    "version": 3
   },
   "file_extension": ".py",
   "mimetype": "text/x-python",
   "name": "python",
   "nbconvert_exporter": "python",
   "pygments_lexer": "ipython3",
   "version": "3.6.4"
  }
 },
 "nbformat": 4,
 "nbformat_minor": 2
}
